{
 "cells": [
  {
   "cell_type": "markdown",
   "metadata": {},
   "source": [
    "## CORONA ANALYSIS"
   ]
  },
  {
   "cell_type": "markdown",
   "metadata": {},
   "source": [
    "## Create a data for all states of India (data structures) from corona live data from MyGov"
   ]
  },
  {
   "cell_type": "code",
   "execution_count": 1,
   "metadata": {},
   "outputs": [],
   "source": [
    "# Names of the states\n",
    "LIST_1_Name_of_States_of_India=[\"Andaman and Nicobar\",\n",
    "                                \"Andhra Pradesh\",\n",
    "                                \"Arunachal Pradesh\",\n",
    "                                \"Assam\",\n",
    "                                \"Bihar\",\n",
    "                                \"Chandigarh\",\n",
    "                                \"Chhattisgarh\",\n",
    "                                \"Dadra and Nagar Haveli and Daman\",\n",
    "                                \"Daman and Diu\",\n",
    "                                \"Delhi\",\n",
    "                                \"Goa\",\n",
    "                                \"Gujarat\",\n",
    "                                \"Haryana\",\n",
    "                                \"Himachal Pradesh\",\n",
    "                                \"Jammu and Kashmir\",\n",
    "                                \"Jharkhand\",\n",
    "                                \"Karnataka\",\n",
    "                                \"Kerala\",\n",
    "                                \"Ladakh\",\n",
    "                                \"Lakshadweep\",\n",
    "                                \"Maharashtra\",\n",
    "                                \"Manipur\",\n",
    "                                \"Meghalaya\",\n",
    "                                \"Mizoram\",\n",
    "                                \"Madhya Pradesh\",\n",
    "                                \"Nagaland\",\n",
    "                                \"Odisha\",\n",
    "                                \"Puducherry\",\n",
    "                                \"Punjab\",\n",
    "                                \"Rajasthan\",\n",
    "                                \"Sikkim\",\n",
    "                                \"Tamil Nadu\",\n",
    "                                \"Telengana\",\n",
    "                                \"Tripura\",\n",
    "                                \"Uttar Pradesh\",\n",
    "                                \"Uttarakhand\",\n",
    "                                \"West Bengal\"\n",
    "                               ]\n",
    "                                "
   ]
  },
  {
   "cell_type": "code",
   "execution_count": 2,
   "metadata": {},
   "outputs": [
    {
     "data": {
      "text/plain": [
       "37"
      ]
     },
     "execution_count": 2,
     "metadata": {},
     "output_type": "execute_result"
    }
   ],
   "source": [
    "len(LIST_1_Name_of_States_of_India)"
   ]
  },
  {
   "cell_type": "code",
   "execution_count": 3,
   "metadata": {},
   "outputs": [],
   "source": [
    "# Having Infected numbers of the states in List 1\n",
    "LIST_2_Number_of_infected_numbers_in_list_1=[198,\n",
    "                                             44609,\n",
    "                                             650,\n",
    "                                             22918,\n",
    "                                             25136,\n",
    "                                             700,\n",
    "                                             5233,\n",
    "                                             602,\n",
    "                                             0,\n",
    "                                             121582,\n",
    "                                             3484,\n",
    "                                             47390,\n",
    "                                             25547,\n",
    "                                             1457,\n",
    "                                             13198,\n",
    "                                             5342,\n",
    "                                             59652,\n",
    "                                             11659,\n",
    "                                             1159,\n",
    "                                             0,\n",
    "                                             300937,\n",
    "                                             1891,\n",
    "                                             418,\n",
    "                                             284,\n",
    "                                             21763,\n",
    "                                             978,\n",
    "                                             16701,\n",
    "                                             1894,\n",
    "                                             9792,\n",
    "                                             28500,\n",
    "                                             275,\n",
    "                                             165714,\n",
    "                                             43780,\n",
    "                                             2654,\n",
    "                                             47036,\n",
    "                                             4276,\n",
    "                                             40209]"
   ]
  },
  {
   "cell_type": "code",
   "execution_count": 4,
   "metadata": {},
   "outputs": [
    {
     "data": {
      "text/plain": [
       "37"
      ]
     },
     "execution_count": 4,
     "metadata": {},
     "output_type": "execute_result"
    }
   ],
   "source": [
    "len(LIST_2_Number_of_infected_numbers_in_list_1)"
   ]
  },
  {
   "cell_type": "code",
   "execution_count": 5,
   "metadata": {},
   "outputs": [
    {
     "name": "stdout",
     "output_type": "stream",
     "text": [
      "Andaman and Nicobar has 198 number of infected persons\n",
      "Andhra Pradesh has 44609 number of infected persons\n",
      "Arunachal Pradesh has 650 number of infected persons\n",
      "Assam has 22918 number of infected persons\n",
      "Bihar has 25136 number of infected persons\n",
      "Chandigarh has 700 number of infected persons\n",
      "Chhattisgarh has 5233 number of infected persons\n",
      "Dadra and Nagar Haveli and Daman has 602 number of infected persons\n",
      "Daman and Diu has 0 number of infected persons\n",
      "Delhi has 121582 number of infected persons\n",
      "Goa has 3484 number of infected persons\n",
      "Gujarat has 47390 number of infected persons\n",
      "Haryana has 25547 number of infected persons\n",
      "Himachal Pradesh has 1457 number of infected persons\n",
      "Jammu and Kashmir has 13198 number of infected persons\n",
      "Jharkhand has 5342 number of infected persons\n",
      "Karnataka has 59652 number of infected persons\n",
      "Kerala has 11659 number of infected persons\n",
      "Ladakh has 1159 number of infected persons\n",
      "Lakshadweep has 0 number of infected persons\n",
      "Maharashtra has 300937 number of infected persons\n",
      "Manipur has 1891 number of infected persons\n",
      "Meghalaya has 418 number of infected persons\n",
      "Mizoram has 284 number of infected persons\n",
      "Madhya Pradesh has 21763 number of infected persons\n",
      "Nagaland has 978 number of infected persons\n",
      "Odisha has 16701 number of infected persons\n",
      "Puducherry has 1894 number of infected persons\n",
      "Punjab has 9792 number of infected persons\n",
      "Rajasthan has 28500 number of infected persons\n",
      "Sikkim has 275 number of infected persons\n",
      "Tamil Nadu has 165714 number of infected persons\n",
      "Telengana has 43780 number of infected persons\n",
      "Tripura has 2654 number of infected persons\n",
      "Uttar Pradesh has 47036 number of infected persons\n",
      "Uttarakhand has 4276 number of infected persons\n",
      "West Bengal has 40209 number of infected persons\n"
     ]
    }
   ],
   "source": [
    "for i in range (len(LIST_1_Name_of_States_of_India)):\n",
    "    print(\"{} has {} number of infected persons\".format(LIST_1_Name_of_States_of_India[i], LIST_2_Number_of_infected_numbers_in_list_1[i]))"
   ]
  },
  {
   "cell_type": "code",
   "execution_count": 6,
   "metadata": {},
   "outputs": [],
   "source": [
    "#Numbers in recovered, state wise\n",
    "Tuple_Numbers_in_Recovered=(145,\n",
    "                           21763,\n",
    "                           274,\n",
    "                           15165,\n",
    "                           15536,\n",
    "                           485,\n",
    "                           3658,\n",
    "                           414,\n",
    "                           0,\n",
    "                           101274,\n",
    "                           2038,\n",
    "                           34035,\n",
    "                           19318,\n",
    "                           1036,\n",
    "                           7165,\n",
    "                           2611,\n",
    "                           21775,\n",
    "                           5199,\n",
    "                           985,\n",
    "                           0,\n",
    "                           165663,\n",
    "                           1182,\n",
    "                           66,\n",
    "                           167,\n",
    "                           14864,\n",
    "                           432,\n",
    "                           11937,\n",
    "                           1066,\n",
    "                           6454,\n",
    "                           21144,\n",
    "                           90,\n",
    "                           113856,\n",
    "                           30607,\n",
    "                           1735,\n",
    "                           28664,\n",
    "                           3081,\n",
    "                           23539)"
   ]
  },
  {
   "cell_type": "code",
   "execution_count": 7,
   "metadata": {},
   "outputs": [
    {
     "data": {
      "text/plain": [
       "37"
      ]
     },
     "execution_count": 7,
     "metadata": {},
     "output_type": "execute_result"
    }
   ],
   "source": [
    "len(Tuple_Numbers_in_Recovered)"
   ]
  },
  {
   "cell_type": "code",
   "execution_count": 9,
   "metadata": {},
   "outputs": [
    {
     "name": "stdout",
     "output_type": "stream",
     "text": [
      "(Name_of_States_of_India, Numbers_in_Recovered)\n",
      "('Andaman and Nicobar', 145)\n",
      "('Andhra Pradesh', 21763)\n",
      "('Arunachal Pradesh', 274)\n",
      "('Assam', 15165)\n",
      "('Bihar', 15536)\n",
      "('Chandigarh', 485)\n",
      "('Chhattisgarh', 3658)\n",
      "('Dadra and Nagar Haveli and Daman', 414)\n",
      "('Daman and Diu', 0)\n",
      "('Delhi', 101274)\n",
      "('Goa', 2038)\n",
      "('Gujarat', 34035)\n",
      "('Haryana', 19318)\n",
      "('Himachal Pradesh', 1036)\n",
      "('Jammu and Kashmir', 7165)\n",
      "('Jharkhand', 2611)\n",
      "('Karnataka', 21775)\n",
      "('Kerala', 5199)\n",
      "('Ladakh', 985)\n",
      "('Lakshadweep', 0)\n",
      "('Maharashtra', 165663)\n",
      "('Manipur', 1182)\n",
      "('Meghalaya', 66)\n",
      "('Mizoram', 167)\n",
      "('Madhya Pradesh', 14864)\n",
      "('Nagaland', 432)\n",
      "('Odisha', 11937)\n",
      "('Puducherry', 1066)\n",
      "('Punjab', 6454)\n",
      "('Rajasthan', 21144)\n",
      "('Sikkim', 90)\n",
      "('Tamil Nadu', 113856)\n",
      "('Telengana', 30607)\n",
      "('Tripura', 1735)\n",
      "('Uttar Pradesh', 28664)\n",
      "('Uttarakhand', 3081)\n",
      "('West Bengal', 23539)\n"
     ]
    }
   ],
   "source": [
    "\n",
    "print(\"(Name_of_States_of_India, Numbers_in_Recovered)\")\n",
    "for i in range(len(LIST_1_Name_of_States_of_India)):\n",
    "    LIST_4_Numbers_in_Recovered_In_Each_State=[(LIST_1_Name_of_States_of_India[i],Tuple_Numbers_in_Recovered[i])]\n",
    "    for i in LIST_4_Numbers_in_Recovered_In_Each_State:\n",
    "        print(i)"
   ]
  },
  {
   "cell_type": "code",
   "execution_count": 15,
   "metadata": {},
   "outputs": [
    {
     "name": "stdout",
     "output_type": "stream",
     "text": [
      "Andaman and Nicobar\n",
      "Andhra Pradesh\n",
      "Arunachal Pradesh\n",
      "Assam\n",
      "Bihar\n",
      "Chandigarh\n",
      "Chhattisgarh\n",
      "Dadra and Nagar Haveli and Daman\n",
      "Daman and Diu\n",
      "Delhi\n",
      "Goa\n",
      "Gujarat\n",
      "Haryana\n",
      "Himachal Pradesh\n",
      "Jammu and Kashmir\n",
      "Jharkhand\n",
      "Karnataka\n",
      "Kerala\n",
      "Ladakh\n",
      "Lakshadweep\n",
      "Maharashtra\n",
      "Manipur\n",
      "Meghalaya\n",
      "Mizoram\n",
      "Madhya Pradesh\n",
      "Nagaland\n",
      "Odisha\n",
      "Puducherry\n",
      "Punjab\n",
      "Rajasthan\n",
      "Sikkim\n",
      "Tamil Nadu\n",
      "Telengana\n",
      "Tripura\n",
      "Uttar Pradesh\n",
      "Uttarakhand\n",
      "West Bengal\n"
     ]
    }
   ],
   "source": [
    "for i in range(len(LIST_1_Name_of_States_of_India)):\n",
    "    STATE_INFECTED = {LIST_1_Name_of_States_of_India[i]:LIST_2_Number_of_infected_numbers_in_list_1[i]}\n",
    "    for item in STATE_INFECTED:\n",
    "        print(item)\n",
    "        STATE_INFECTED.items()"
   ]
  },
  {
   "cell_type": "code",
   "execution_count": 11,
   "metadata": {},
   "outputs": [
    {
     "data": {
      "text/plain": [
       "dict_items([('West Bengal', 40209)])"
      ]
     },
     "execution_count": 11,
     "metadata": {},
     "output_type": "execute_result"
    }
   ],
   "source": [
    "STATE_INFECTED.items()"
   ]
  },
  {
   "cell_type": "code",
   "execution_count": 12,
   "metadata": {},
   "outputs": [
    {
     "name": "stdout",
     "output_type": "stream",
     "text": [
      "West Bengal 40209\n"
     ]
    }
   ],
   "source": [
    "for k,v in STATE_INFECTED.items():\n",
    "    print(k,v) "
   ]
  },
  {
   "cell_type": "code",
   "execution_count": 17,
   "metadata": {},
   "outputs": [],
   "source": [
    "# state : infected\n",
    "STATE_INFECTED_DICTIONARY={     \"Andaman and Nicobar\":198,\n",
    "                                \"Andhra Pradesh\":44609,\n",
    "                                \"Arunachal Pradesh\":650,\n",
    "                                \"Assam\":22918,\n",
    "                                \"Bihar\":25136,\n",
    "                                \"Chandigarh\":700,\n",
    "                                \"Chhattisgarh\":5233,\n",
    "                                \"Dadra and Nagar Haveli and Daman\":602,\n",
    "                                \"Daman and Diu\":0,\n",
    "                                \"Delhi\":121582,\n",
    "                                \"Goa\":3484,\n",
    "                                \"Gujarat\":47390,\n",
    "                                \"Haryana\":25547,\n",
    "                                \"Himachal Pradesh\":1457,\n",
    "                                \"Jammu and Kashmir\":13198,\n",
    "                                \"Jharkhand\":5342,\n",
    "                                \"Karnataka\":59652,\n",
    "                                \"Kerala\":11659,\n",
    "                                \"Ladakh\":1159,\n",
    "                                \"Lakshadweep\":0,\n",
    "                                \"Maharashtra\":300937,\n",
    "                                \"Manipur\":1891,\n",
    "                                \"Meghalaya\":418,\n",
    "                                \"Mizoram\":284,\n",
    "                                \"Madhya Pradesh\":21763,\n",
    "                                \"Nagaland\":978,\n",
    "                                \"Odisha\":16701,\n",
    "                                \"Puducherry\":1894,\n",
    "                                \"Punjab\":9792,\n",
    "                                \"Rajasthan\":28500,\n",
    "                                \"Sikkim\":275,\n",
    "                                \"Tamil Nadu\":165714,\n",
    "                                \"Telengana\":43780,\n",
    "                                \"Tripura\":2654,\n",
    "                                \"Uttar Pradesh\":47036,\n",
    "                                \"Uttarakhand\":4276,\n",
    "                                \"West Bengal\":40209}"
   ]
  },
  {
   "cell_type": "code",
   "execution_count": 18,
   "metadata": {},
   "outputs": [
    {
     "data": {
      "text/plain": [
       "dict_items([('Andaman and Nicobar', 198), ('Andhra Pradesh', 44609), ('Arunachal Pradesh', 650), ('Assam', 22918), ('Bihar', 25136), ('Chandigarh', 700), ('Chhattisgarh', 5233), ('Dadra and Nagar Haveli and Daman', 602), ('Daman and Diu', 0), ('Delhi', 121582), ('Goa', 3484), ('Gujarat', 47390), ('Haryana', 25547), ('Himachal Pradesh', 1457), ('Jammu and Kashmir', 13198), ('Jharkhand', 5342), ('Karnataka', 59652), ('Kerala', 11659), ('Ladakh', 1159), ('Lakshadweep', 0), ('Maharashtra', 300937), ('Manipur', 1891), ('Meghalaya', 418), ('Mizoram', 284), ('Madhya Pradesh', 21763), ('Nagaland', 978), ('Odisha', 16701), ('Puducherry', 1894), ('Punjab', 9792), ('Rajasthan', 28500), ('Sikkim', 275), ('Tamil Nadu', 165714), ('Telengana', 43780), ('Tripura', 2654), ('Uttar Pradesh', 47036), ('Uttarakhand', 4276), ('West Bengal', 40209)])"
      ]
     },
     "execution_count": 18,
     "metadata": {},
     "output_type": "execute_result"
    }
   ],
   "source": [
    "STATE_INFECTED_DICTIONARY.items()"
   ]
  },
  {
   "cell_type": "code",
   "execution_count": 25,
   "metadata": {},
   "outputs": [],
   "source": [
    "LIST_5_NUMBER_OF_DEATHS=[0,586,3,53,208,12,24,2,0,3597,21,2122,344,11,236,46,1240,40,1,0,11596,0,2,0,706,0,86,28,246,553,0,2403,409,5,1108,52,1076]"
   ]
  },
  {
   "cell_type": "code",
   "execution_count": 31,
   "metadata": {},
   "outputs": [],
   "source": [
    "TOTAL_POPULATION_PER_STATE=[380581,84580777,1383727,31205576,104099452,1055450,25545198,586956,586956,16787941,1458545,60439692,253514162,6864602,12541302,32988134,61095297,33406061,12541302,64473,112374333,\n",
    "                            2855794,2966889,1097206,72626809,1978502,41974218,1247953,27743338,68548437,610577,72147030,35200000,3673917,199812341,10086290,91276115]\n"
   ]
  },
  {
   "cell_type": "markdown",
   "metadata": {},
   "source": [
    "## Calculate CMR and IFR"
   ]
  },
  {
   "cell_type": "markdown",
   "metadata": {},
   "source": [
    "### IFR"
   ]
  },
  {
   "cell_type": "code",
   "execution_count": 26,
   "metadata": {},
   "outputs": [],
   "source": [
    "def ifr(infected,deaths):\n",
    "    if infected == 0:\n",
    "        print(\"NAN\")\n",
    "    else:\n",
    "        ifr=(deaths/infected)*100\n",
    "        print(\"The IFR ={}%\".format(ifr))"
   ]
  },
  {
   "cell_type": "code",
   "execution_count": 27,
   "metadata": {},
   "outputs": [
    {
     "name": "stdout",
     "output_type": "stream",
     "text": [
      "Andaman and Nicobar\n",
      "The IFR =0.0%\n",
      "Andhra Pradesh\n",
      "The IFR =1.3136362617409043%\n",
      "Arunachal Pradesh\n",
      "The IFR =0.46153846153846156%\n",
      "Assam\n",
      "The IFR =0.23125927218779996%\n",
      "Bihar\n",
      "The IFR =0.8274984086569064%\n",
      "Chandigarh\n",
      "The IFR =1.7142857142857144%\n",
      "Chhattisgarh\n",
      "The IFR =0.45862793808522834%\n",
      "Dadra and Nagar Haveli and Daman\n",
      "The IFR =0.33222591362126247%\n",
      "Daman and Diu\n",
      "NAN\n",
      "Delhi\n",
      "The IFR =2.9584971459591056%\n",
      "Goa\n",
      "The IFR =0.6027554535017221%\n",
      "Gujarat\n",
      "The IFR =4.477737919392276%\n",
      "Haryana\n",
      "The IFR =1.3465377539437116%\n",
      "Himachal Pradesh\n",
      "The IFR =0.7549759780370624%\n",
      "Jammu and Kashmir\n",
      "The IFR =1.7881497196544933%\n",
      "Jharkhand\n",
      "The IFR =0.8611007113440659%\n",
      "Karnataka\n",
      "The IFR =2.078723261583853%\n",
      "Kerala\n",
      "The IFR =0.3430825971352603%\n",
      "Ladakh\n",
      "The IFR =0.08628127696289906%\n",
      "Lakshadweep\n",
      "NAN\n",
      "Maharashtra\n",
      "The IFR =3.8532981986262906%\n",
      "Manipur\n",
      "The IFR =0.0%\n",
      "Meghalaya\n",
      "The IFR =0.4784688995215311%\n",
      "Mizoram\n",
      "The IFR =0.0%\n",
      "Madhya Pradesh\n",
      "The IFR =3.2440380462252447%\n",
      "Nagaland\n",
      "The IFR =0.0%\n",
      "Odisha\n",
      "The IFR =0.514939225196096%\n",
      "Puducherry\n",
      "The IFR =1.478352692713833%\n",
      "Punjab\n",
      "The IFR =2.5122549019607843%\n",
      "Rajasthan\n",
      "The IFR =1.9403508771929825%\n",
      "Sikkim\n",
      "The IFR =0.0%\n",
      "Tamil Nadu\n",
      "The IFR =1.450088707049495%\n",
      "Telengana\n",
      "The IFR =0.9342165372316126%\n",
      "Tripura\n",
      "The IFR =0.18839487565938207%\n",
      "Uttar Pradesh\n",
      "The IFR =2.355642486606004%\n",
      "Uttarakhand\n",
      "The IFR =1.216089803554724%\n",
      "West Bengal\n",
      "The IFR =2.676017806958641%\n"
     ]
    }
   ],
   "source": [
    "for i in range (len(LIST_1_Name_of_States_of_India)):\n",
    "    print(LIST_1_Name_of_States_of_India[i])\n",
    "    ifr(LIST_2_Number_of_infected_numbers_in_list_1[i],LIST_5_NUMBER_OF_DEATHS[i])"
   ]
  },
  {
   "cell_type": "markdown",
   "metadata": {},
   "source": [
    "## CMR"
   ]
  },
  {
   "cell_type": "code",
   "execution_count": 28,
   "metadata": {},
   "outputs": [],
   "source": [
    "def CMR(deaths,total_poppulation):\n",
    "    CMR=(deaths/total_poppulation)*100000\n",
    "    print(\"The Crude Mortality Rate ={}%\".format(CMR))"
   ]
  },
  {
   "cell_type": "code",
   "execution_count": 32,
   "metadata": {},
   "outputs": [
    {
     "name": "stdout",
     "output_type": "stream",
     "text": [
      "Andaman and Nicobar\n",
      "The Crude Mortality Rate =0.0%\n",
      "Andhra Pradesh\n",
      "The Crude Mortality Rate =0.6928288209033596%\n",
      "Arunachal Pradesh\n",
      "The Crude Mortality Rate =0.2168057716587159%\n",
      "Assam\n",
      "The Crude Mortality Rate =0.16984144115782385%\n",
      "Bihar\n",
      "The Crude Mortality Rate =0.19980892886928933%\n",
      "Chandigarh\n",
      "The Crude Mortality Rate =1.136955800843242%\n",
      "Chhattisgarh\n",
      "The Crude Mortality Rate =0.09395112145930519%\n",
      "Dadra and Nagar Haveli and Daman\n",
      "The Crude Mortality Rate =0.3407410436216684%\n",
      "Daman and Diu\n",
      "The Crude Mortality Rate =0.0%\n",
      "Delhi\n",
      "The Crude Mortality Rate =21.426093884890353%\n",
      "Goa\n",
      "The Crude Mortality Rate =1.4397910246169985%\n",
      "Gujarat\n",
      "The Crude Mortality Rate =3.5109378121913664%\n",
      "Haryana\n",
      "The Crude Mortality Rate =0.13569261665153048%\n",
      "Himachal Pradesh\n",
      "The Crude Mortality Rate =0.16024235636676387%\n",
      "Jammu and Kashmir\n",
      "The Crude Mortality Rate =1.8817822902279207%\n",
      "Jharkhand\n",
      "The Crude Mortality Rate =0.13944408010468248%\n",
      "Karnataka\n",
      "The Crude Mortality Rate =2.029616125771514%\n",
      "Kerala\n",
      "The Crude Mortality Rate =0.11973875040220995%\n",
      "Ladakh\n",
      "The Crude Mortality Rate =0.007973653772152206%\n",
      "Lakshadweep\n",
      "The Crude Mortality Rate =0.0%\n",
      "Maharashtra\n",
      "The Crude Mortality Rate =10.319082383341044%\n",
      "Manipur\n",
      "The Crude Mortality Rate =0.0%\n",
      "Meghalaya\n",
      "The Crude Mortality Rate =0.06741067832332116%\n",
      "Mizoram\n",
      "The Crude Mortality Rate =0.0%\n",
      "Madhya Pradesh\n",
      "The Crude Mortality Rate =0.9720928259425524%\n",
      "Nagaland\n",
      "The Crude Mortality Rate =0.0%\n",
      "Odisha\n",
      "The Crude Mortality Rate =0.20488767652562342%\n",
      "Puducherry\n",
      "The Crude Mortality Rate =2.2436742409369583%\n",
      "Punjab\n",
      "The Crude Mortality Rate =0.8866993582387238%\n",
      "Rajasthan\n",
      "The Crude Mortality Rate =0.8067288244661217%\n",
      "Sikkim\n",
      "The Crude Mortality Rate =0.0%\n",
      "Tamil Nadu\n",
      "The Crude Mortality Rate =3.330698436235005%\n",
      "Telengana\n",
      "The Crude Mortality Rate =1.1619318181818181%\n",
      "Tripura\n",
      "The Crude Mortality Rate =0.13609452799287516%\n",
      "Uttar Pradesh\n",
      "The Crude Mortality Rate =0.5545203036282929%\n",
      "Uttarakhand\n",
      "The Crude Mortality Rate =0.5155513077652932%\n",
      "West Bengal\n",
      "The Crude Mortality Rate =1.1788407076703473%\n"
     ]
    }
   ],
   "source": [
    "for i in range (len(LIST_1_Name_of_States_of_India)):\n",
    "    print(LIST_1_Name_of_States_of_India[i])\n",
    "    CMR(LIST_5_NUMBER_OF_DEATHS[i],TOTAL_POPULATION_PER_STATE[i])"
   ]
  },
  {
   "cell_type": "code",
   "execution_count": null,
   "metadata": {},
   "outputs": [],
   "source": []
  }
 ],
 "metadata": {
  "kernelspec": {
   "display_name": "mlops",
   "language": "python",
   "name": "mlops"
  },
  "language_info": {
   "codemirror_mode": {
    "name": "ipython",
    "version": 3
   },
   "file_extension": ".py",
   "mimetype": "text/x-python",
   "name": "python",
   "nbconvert_exporter": "python",
   "pygments_lexer": "ipython3",
   "version": "3.7.6"
  }
 },
 "nbformat": 4,
 "nbformat_minor": 2
}
