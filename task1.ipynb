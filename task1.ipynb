{
 "cells": [
  {
   "attachments": {},
   "cell_type": "markdown",
   "metadata": {},
   "source": [
    "## Write a program asking the user to put details about the COVID19 statistics and confirm whether he/she is positive/negative.\n"
   ]
  },
  {
   "cell_type": "code",
   "execution_count": null,
   "metadata": {},
   "outputs": [
    {
     "name": "stdout",
     "output_type": "stream",
     "text": [
      "Pateint No.:1\n",
      "What is your name?gunu\n",
      "What is your Age?16\n",
      "Do you have chest pain?(Y/N)n\n",
      "Do you have problem in breathing?(Y/N)n\n",
      "Do you shortness of breath?(Y/N)y\n",
      "Do you loss of speech or movement?(Y/N)n\n",
      "Do you have pressure difficulty?(Y/N)n\n",
      "Do you have headache?(Y/N)y\n",
      "Do you loss of taste?(Y/N)n\n",
      "Do you loss of smell?(Y/N)n\n",
      "Do you have discolourization of fingers or toes?(Y/N)n\n",
      "Do you have aches and pain?(Y/N)y\n",
      "Do you have sore throat(Y/N)n\n",
      "Do you have fever(Y/N)n\n",
      "Do you have dry cough(Y/N)n\n",
      "Do you have tiredness(Y/N)y\n",
      " U MAY HAVE COVID 19 AND any of the less serious systems are shown by you, So go for 14 days HOME QUARANTINE\n",
      "\n",
      "\n",
      "Stay Safe! Stay at Home! Fight from COVID 19 \n",
      "Pateint No.:2\n"
     ]
    }
   ],
   "source": [
    "# taking details from user\n",
    "for i in range (1,3):\n",
    "    print('Pateint No.:{}'.format(i))\n",
    "    # asking for basic details\n",
    "    INPUT1=input('What is your name?')\n",
    "    INPUT2=int(input('What is your Age?'))\n",
    "    # asking for serious symptoms\n",
    "    INPUT3=input('Do you have chest pain?(Y/N)')\n",
    "\n",
    "    INPUT4=input('Do you have problem in breathing?(Y/N)')\n",
    "    INPUT5=input('Do you shortness of breath?(Y/N)')\n",
    "    INPUT6=input('Do you loss of speech or movement?(Y/N)')\n",
    "    INPUT7=input('Do you have pressure difficulty?(Y/N)')\n",
    "    # asking for less common covid symptoms\n",
    "    INPUT8=input('Do you have headache?(Y/N)')\n",
    "    INPUT9=input('Do you loss of taste?(Y/N)')\n",
    "    INPUT10=input('Do you loss of smell?(Y/N)')\n",
    "    INPUT11=input('Do you have discolourization of fingers or toes?(Y/N)')\n",
    "    INPUT12=input('Do you have aches and pain?(Y/N)')\n",
    "    INPUT13=input('Do you have sore throat(Y/N)')\n",
    "    # asking for more common symptoms\n",
    "    INPUT14=input('Do you have fever(Y/N)')\n",
    "    INPUT15=input('Do you have dry cough(Y/N)')\n",
    "    INPUT16=input('Do you have tiredness(Y/N)')\n",
    "\n",
    "    covid()"
   ]
  },
  {
   "cell_type": "code",
   "execution_count": 6,
   "metadata": {},
   "outputs": [],
   "source": [
    "def covid():\n",
    "    \n",
    "    if ((INPUT2>60) & ( ( INPUT3=='y') |  ( INPUT4=='y') | (INPUT5=='y') | (INPUT6=='y') | (INPUT7=='y') ) ):\n",
    "    # 60 + AND SERIOUS SYMPTOMS\n",
    "        print('GO TO DOCTOR U CAN HAVE COVID 19 AS three serious systems are shown by you') \n",
    "    \n",
    "    if ((INPUT2>60) & ( ( INPUT8=='y') |  ( INPUT9=='y') | (INPUT10=='y') | (INPUT11=='y') | (INPUT12=='y')| (INPUT13=='y') )):\n",
    "    # 60 + AND less common SYMPTOMS\n",
    "        print('Consult Doctor on call and take preventive measures!!')\n",
    "    \n",
    "    elif ((INPUT2<60) & ( ( INPUT8=='y') |  ( INPUT9=='y') | (INPUT10=='y') | (INPUT11=='y') | (INPUT12=='y')| (INPUT13=='y') )):   \n",
    "    # 60 - AND LESS COMMON SYMPTOMS\n",
    "        print(' U MAY HAVE COVID 19 AND any of the less serious systems are shown by you, So go for 14 days HOME QUARANTINE') \n",
    "        \n",
    "    elif ((INPUT2<60) & ( ( INPUT3=='y') |  ( INPUT4=='y') | (INPUT5=='y') | (INPUT6=='y') | (INPUT7=='y') ) ):\n",
    "    # 60 - AND SERIOUS SYMPTOMS\n",
    "        print('''  1. do saline gargles\n",
    "                   2. drink kadha\n",
    "                   3. take hot water steam''')\n",
    "    \n",
    "    elif  ( ( INPUT14=='y') |  ( INPUT15=='y') | (INPUT16=='y')) :   \n",
    "    # more COMMON SYMPTOMS\n",
    "        print(\"Consult online doctor monitor health\")\n",
    "        \n",
    "    else:\n",
    "        print(\"take care dude! its a pandamic time\")\n",
    "     \n",
    "    print(\"\\n\\nStay Safe! Stay at Home! Fight from COVID 19 \")\n",
    "\n"
   ]
  },
  {
   "cell_type": "code",
   "execution_count": null,
   "metadata": {},
   "outputs": [],
   "source": []
  }
 ],
 "metadata": {
  "kernelspec": {
   "display_name": "mlops",
   "language": "python",
   "name": "mlops"
  },
  "language_info": {
   "codemirror_mode": {
    "name": "ipython",
    "version": 3
   },
   "file_extension": ".py",
   "mimetype": "text/x-python",
   "name": "python",
   "nbconvert_exporter": "python",
   "pygments_lexer": "ipython3",
   "version": "3.7.6"
  }
 },
 "nbformat": 4,
 "nbformat_minor": 2
}
